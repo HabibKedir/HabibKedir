{
  "cells": [
    {
      "cell_type": "markdown",
      "metadata": {
        "id": "view-in-github",
        "colab_type": "text"
      },
      "source": [
        "<a href=\"https://colab.research.google.com/github/HabibKedir/HabibKedir/blob/main/AmhEng.ipynb\" target=\"_parent\"><img src=\"https://colab.research.google.com/assets/colab-badge.svg\" alt=\"Open In Colab\"/></a>"
      ]
    },
    {
      "cell_type": "code",
      "execution_count": 1,
      "metadata": {
        "colab": {
          "base_uri": "https://localhost:8080/"
        },
        "collapsed": true,
        "id": "pyEYVBVVC7Iv",
        "outputId": "618d7688-e72e-402a-a0f6-525fad8d9572"
      },
      "outputs": [
        {
          "output_type": "stream",
          "name": "stdout",
          "text": [
            "Requirement already satisfied: tensorflow in /usr/local/lib/python3.10/dist-packages (2.15.0)\n",
            "Requirement already satisfied: transformers in /usr/local/lib/python3.10/dist-packages (4.46.2)\n",
            "Requirement already satisfied: absl-py>=1.0.0 in /usr/local/lib/python3.10/dist-packages (from tensorflow) (1.4.0)\n",
            "Requirement already satisfied: astunparse>=1.6.0 in /usr/local/lib/python3.10/dist-packages (from tensorflow) (1.6.3)\n",
            "Requirement already satisfied: flatbuffers>=23.5.26 in /usr/local/lib/python3.10/dist-packages (from tensorflow) (24.3.25)\n",
            "Requirement already satisfied: gast!=0.5.0,!=0.5.1,!=0.5.2,>=0.2.1 in /usr/local/lib/python3.10/dist-packages (from tensorflow) (0.6.0)\n",
            "Requirement already satisfied: google-pasta>=0.1.1 in /usr/local/lib/python3.10/dist-packages (from tensorflow) (0.2.0)\n",
            "Requirement already satisfied: h5py>=2.9.0 in /usr/local/lib/python3.10/dist-packages (from tensorflow) (3.12.1)\n",
            "Requirement already satisfied: libclang>=13.0.0 in /usr/local/lib/python3.10/dist-packages (from tensorflow) (18.1.1)\n",
            "Requirement already satisfied: ml-dtypes~=0.2.0 in /usr/local/lib/python3.10/dist-packages (from tensorflow) (0.2.0)\n",
            "Requirement already satisfied: numpy<2.0.0,>=1.23.5 in /usr/local/lib/python3.10/dist-packages (from tensorflow) (1.26.4)\n",
            "Requirement already satisfied: opt-einsum>=2.3.2 in /usr/local/lib/python3.10/dist-packages (from tensorflow) (3.4.0)\n",
            "Requirement already satisfied: packaging in /usr/local/lib/python3.10/dist-packages (from tensorflow) (24.2)\n",
            "Requirement already satisfied: protobuf!=4.21.0,!=4.21.1,!=4.21.2,!=4.21.3,!=4.21.4,!=4.21.5,<5.0.0dev,>=3.20.3 in /usr/local/lib/python3.10/dist-packages (from tensorflow) (4.25.5)\n",
            "Requirement already satisfied: setuptools in /usr/local/lib/python3.10/dist-packages (from tensorflow) (75.1.0)\n",
            "Requirement already satisfied: six>=1.12.0 in /usr/local/lib/python3.10/dist-packages (from tensorflow) (1.16.0)\n",
            "Requirement already satisfied: termcolor>=1.1.0 in /usr/local/lib/python3.10/dist-packages (from tensorflow) (2.5.0)\n",
            "Requirement already satisfied: typing-extensions>=3.6.6 in /usr/local/lib/python3.10/dist-packages (from tensorflow) (4.12.2)\n",
            "Requirement already satisfied: wrapt<1.15,>=1.11.0 in /usr/local/lib/python3.10/dist-packages (from tensorflow) (1.14.1)\n",
            "Requirement already satisfied: tensorflow-io-gcs-filesystem>=0.23.1 in /usr/local/lib/python3.10/dist-packages (from tensorflow) (0.37.1)\n",
            "Requirement already satisfied: grpcio<2.0,>=1.24.3 in /usr/local/lib/python3.10/dist-packages (from tensorflow) (1.68.0)\n",
            "Requirement already satisfied: tensorboard<2.16,>=2.15 in /usr/local/lib/python3.10/dist-packages (from tensorflow) (2.15.2)\n",
            "Requirement already satisfied: tensorflow-estimator<2.16,>=2.15.0 in /usr/local/lib/python3.10/dist-packages (from tensorflow) (2.15.0)\n",
            "Requirement already satisfied: keras<2.16,>=2.15.0 in /usr/local/lib/python3.10/dist-packages (from tensorflow) (2.15.0)\n",
            "Requirement already satisfied: filelock in /usr/local/lib/python3.10/dist-packages (from transformers) (3.16.1)\n",
            "Requirement already satisfied: huggingface-hub<1.0,>=0.23.2 in /usr/local/lib/python3.10/dist-packages (from transformers) (0.26.2)\n",
            "Requirement already satisfied: pyyaml>=5.1 in /usr/local/lib/python3.10/dist-packages (from transformers) (6.0.2)\n",
            "Requirement already satisfied: regex!=2019.12.17 in /usr/local/lib/python3.10/dist-packages (from transformers) (2024.11.6)\n",
            "Requirement already satisfied: requests in /usr/local/lib/python3.10/dist-packages (from transformers) (2.32.3)\n",
            "Requirement already satisfied: safetensors>=0.4.1 in /usr/local/lib/python3.10/dist-packages (from transformers) (0.4.5)\n",
            "Requirement already satisfied: tokenizers<0.21,>=0.20 in /usr/local/lib/python3.10/dist-packages (from transformers) (0.20.3)\n",
            "Requirement already satisfied: tqdm>=4.27 in /usr/local/lib/python3.10/dist-packages (from transformers) (4.66.6)\n",
            "Requirement already satisfied: wheel<1.0,>=0.23.0 in /usr/local/lib/python3.10/dist-packages (from astunparse>=1.6.0->tensorflow) (0.45.0)\n",
            "Requirement already satisfied: fsspec>=2023.5.0 in /usr/local/lib/python3.10/dist-packages (from huggingface-hub<1.0,>=0.23.2->transformers) (2024.10.0)\n",
            "Requirement already satisfied: google-auth<3,>=1.6.3 in /usr/local/lib/python3.10/dist-packages (from tensorboard<2.16,>=2.15->tensorflow) (2.27.0)\n",
            "Requirement already satisfied: google-auth-oauthlib<2,>=0.5 in /usr/local/lib/python3.10/dist-packages (from tensorboard<2.16,>=2.15->tensorflow) (1.2.1)\n",
            "Requirement already satisfied: markdown>=2.6.8 in /usr/local/lib/python3.10/dist-packages (from tensorboard<2.16,>=2.15->tensorflow) (3.7)\n",
            "Requirement already satisfied: tensorboard-data-server<0.8.0,>=0.7.0 in /usr/local/lib/python3.10/dist-packages (from tensorboard<2.16,>=2.15->tensorflow) (0.7.2)\n",
            "Requirement already satisfied: werkzeug>=1.0.1 in /usr/local/lib/python3.10/dist-packages (from tensorboard<2.16,>=2.15->tensorflow) (3.1.3)\n",
            "Requirement already satisfied: charset-normalizer<4,>=2 in /usr/local/lib/python3.10/dist-packages (from requests->transformers) (3.4.0)\n",
            "Requirement already satisfied: idna<4,>=2.5 in /usr/local/lib/python3.10/dist-packages (from requests->transformers) (3.10)\n",
            "Requirement already satisfied: urllib3<3,>=1.21.1 in /usr/local/lib/python3.10/dist-packages (from requests->transformers) (2.2.3)\n",
            "Requirement already satisfied: certifi>=2017.4.17 in /usr/local/lib/python3.10/dist-packages (from requests->transformers) (2024.8.30)\n",
            "Requirement already satisfied: cachetools<6.0,>=2.0.0 in /usr/local/lib/python3.10/dist-packages (from google-auth<3,>=1.6.3->tensorboard<2.16,>=2.15->tensorflow) (5.5.0)\n",
            "Requirement already satisfied: pyasn1-modules>=0.2.1 in /usr/local/lib/python3.10/dist-packages (from google-auth<3,>=1.6.3->tensorboard<2.16,>=2.15->tensorflow) (0.4.1)\n",
            "Requirement already satisfied: rsa<5,>=3.1.4 in /usr/local/lib/python3.10/dist-packages (from google-auth<3,>=1.6.3->tensorboard<2.16,>=2.15->tensorflow) (4.9)\n",
            "Requirement already satisfied: requests-oauthlib>=0.7.0 in /usr/local/lib/python3.10/dist-packages (from google-auth-oauthlib<2,>=0.5->tensorboard<2.16,>=2.15->tensorflow) (2.0.0)\n",
            "Requirement already satisfied: MarkupSafe>=2.1.1 in /usr/local/lib/python3.10/dist-packages (from werkzeug>=1.0.1->tensorboard<2.16,>=2.15->tensorflow) (3.0.2)\n",
            "Requirement already satisfied: pyasn1<0.7.0,>=0.4.6 in /usr/local/lib/python3.10/dist-packages (from pyasn1-modules>=0.2.1->google-auth<3,>=1.6.3->tensorboard<2.16,>=2.15->tensorflow) (0.6.1)\n",
            "Requirement already satisfied: oauthlib>=3.0.0 in /usr/local/lib/python3.10/dist-packages (from requests-oauthlib>=0.7.0->google-auth-oauthlib<2,>=0.5->tensorboard<2.16,>=2.15->tensorflow) (3.2.2)\n"
          ]
        }
      ],
      "source": [
        "!pip install tensorflow transformers"
      ]
    },
    {
      "cell_type": "code",
      "execution_count": 2,
      "metadata": {
        "colab": {
          "base_uri": "https://localhost:8080/"
        },
        "collapsed": true,
        "id": "8Ilhd4HwevgI",
        "outputId": "6d20d2c4-a1d4-4548-92e8-b93b0cf81324"
      },
      "outputs": [
        {
          "output_type": "stream",
          "name": "stdout",
          "text": [
            "Drive already mounted at /content/drive; to attempt to forcibly remount, call drive.mount(\"/content/drive\", force_remount=True).\n",
            "Loaded 10892 Amharic sentences and 10892 English sentences.\n"
          ]
        }
      ],
      "source": [
        "from google.colab import drive\n",
        "import numpy as np  # Import numpy\n",
        "import os\n",
        "\n",
        "# Mount Google Drive\n",
        "drive.mount('/content/drive')\n",
        "\n",
        "# Set directory paths\n",
        "data_dir = \"/content/drive/MyDrive/New\"\n",
        "amh_path = os.path.join(data_dir, \"Amh.txt\")\n",
        "eng_path = os.path.join(data_dir, \"Eng.txt\")\n",
        "\n",
        "# Load data\n",
        "with open(amh_path, 'r', encoding='utf-8') as f:\n",
        "    amh_sentences = f.readlines()\n",
        "\n",
        "with open(eng_path, 'r', encoding='utf-8') as f:\n",
        "    eng_sentences = f.readlines()\n",
        "\n",
        "print(f\"Loaded {len(amh_sentences)} Amharic sentences and {len(eng_sentences)} English sentences.\")\n"
      ]
    },
    {
      "cell_type": "code",
      "execution_count": 3,
      "metadata": {
        "colab": {
          "base_uri": "https://localhost:8080/"
        },
        "collapsed": true,
        "id": "RVm530cNe22H",
        "outputId": "903993dd-b547-47f1-f48a-2230a289d3a3"
      },
      "outputs": [
        {
          "output_type": "stream",
          "name": "stdout",
          "text": [
            "Amharic data shape: (10892, 30), English data shape: (10892, 30)\n"
          ]
        }
      ],
      "source": [
        "from tensorflow.keras.preprocessing.text import Tokenizer\n",
        "from tensorflow.keras.preprocessing.sequence import pad_sequences\n",
        "\n",
        "# Tokenization\n",
        "def create_tokenizer(sentences):\n",
        "    tokenizer = Tokenizer(filters='', oov_token=\"<unk>\")\n",
        "    tokenizer.fit_on_texts(sentences)\n",
        "    return tokenizer\n",
        "\n",
        "amh_tokenizer = create_tokenizer(amh_sentences)\n",
        "eng_tokenizer = create_tokenizer(eng_sentences)\n",
        "\n",
        "amh_vocab_size = len(amh_tokenizer.word_index) + 1\n",
        "eng_vocab_size = len(eng_tokenizer.word_index) + 1\n",
        "\n",
        "# Preprocess sentences\n",
        "def preprocess_sentences(sentences, tokenizer, max_length=30):\n",
        "    sequences = tokenizer.texts_to_sequences(sentences)\n",
        "    return pad_sequences(sequences, maxlen=max_length, padding='post')\n",
        "\n",
        "max_length = 30\n",
        "amh_data = preprocess_sentences(amh_sentences, amh_tokenizer, max_length)\n",
        "eng_data = preprocess_sentences(eng_sentences, eng_tokenizer, max_length)\n",
        "\n",
        "print(f\"Amharic data shape: {amh_data.shape}, English data shape: {eng_data.shape}\")\n"
      ]
    },
    {
      "cell_type": "code",
      "execution_count": 4,
      "metadata": {
        "id": "3ovqQ2Q8e_re"
      },
      "outputs": [],
      "source": [
        "import tensorflow as tf\n",
        "from tensorflow.keras.layers import Input, Embedding, LSTM, Dense\n",
        "\n",
        "# Define the Seq2Seq Model\n",
        "class Seq2SeqModel(tf.keras.Model):\n",
        "    def __init__(self, encoder_vocab_size, decoder_vocab_size, embedding_dim, units):\n",
        "        super(Seq2SeqModel, self).__init__()\n",
        "        self.encoder_embedding = Embedding(encoder_vocab_size, embedding_dim)\n",
        "        self.encoder_lstm = LSTM(units, return_state=True)\n",
        "\n",
        "        self.decoder_embedding = Embedding(decoder_vocab_size, embedding_dim)\n",
        "        self.decoder_lstm = LSTM(units, return_sequences=True, return_state=True)\n",
        "        self.fc = Dense(decoder_vocab_size)\n",
        "\n",
        "    def call(self, inputs, training=False):\n",
        "        enc_input, dec_input = inputs\n",
        "\n",
        "        # Encoder\n",
        "        enc_embedded = self.encoder_embedding(enc_input)\n",
        "        _, enc_h, enc_c = self.encoder_lstm(enc_embedded)\n",
        "\n",
        "        # Decoder\n",
        "        dec_embedded = self.decoder_embedding(dec_input)\n",
        "        dec_output, _, _ = self.decoder_lstm(dec_embedded, initial_state=[enc_h, enc_c])\n",
        "        output = self.fc(dec_output)\n",
        "\n",
        "        return output\n"
      ]
    },
    {
      "cell_type": "code",
      "execution_count": 5,
      "metadata": {
        "colab": {
          "base_uri": "https://localhost:8080/"
        },
        "id": "hHl9Fpx-fnCV",
        "outputId": "44e79d46-cae0-4013-e66e-ac5bca1efc00"
      },
      "outputs": [
        {
          "output_type": "stream",
          "name": "stdout",
          "text": [
            "Requirement already satisfied: nltk in /usr/local/lib/python3.10/dist-packages (3.9.1)\n",
            "Requirement already satisfied: scikit-learn in /usr/local/lib/python3.10/dist-packages (1.5.2)\n",
            "Requirement already satisfied: click in /usr/local/lib/python3.10/dist-packages (from nltk) (8.1.7)\n",
            "Requirement already satisfied: joblib in /usr/local/lib/python3.10/dist-packages (from nltk) (1.4.2)\n",
            "Requirement already satisfied: regex>=2021.8.3 in /usr/local/lib/python3.10/dist-packages (from nltk) (2024.11.6)\n",
            "Requirement already satisfied: tqdm in /usr/local/lib/python3.10/dist-packages (from nltk) (4.66.6)\n",
            "Requirement already satisfied: numpy>=1.19.5 in /usr/local/lib/python3.10/dist-packages (from scikit-learn) (1.26.4)\n",
            "Requirement already satisfied: scipy>=1.6.0 in /usr/local/lib/python3.10/dist-packages (from scikit-learn) (1.13.1)\n",
            "Requirement already satisfied: threadpoolctl>=3.1.0 in /usr/local/lib/python3.10/dist-packages (from scikit-learn) (3.5.0)\n",
            "Training on Fold 1/5...\n",
            "Epoch 1/5\n",
            "545/545 [==============================] - 167s 300ms/step - loss: 5.1909 - accuracy: 0.3711 - val_loss: 4.7871 - val_accuracy: 0.3920\n",
            "Epoch 2/5\n",
            "545/545 [==============================] - 162s 297ms/step - loss: 4.5000 - accuracy: 0.4048 - val_loss: 4.5641 - val_accuracy: 0.4147\n",
            "Epoch 3/5\n",
            "545/545 [==============================] - 162s 298ms/step - loss: 4.1290 - accuracy: 0.4297 - val_loss: 4.4702 - val_accuracy: 0.4251\n",
            "Epoch 4/5\n",
            "545/545 [==============================] - 163s 299ms/step - loss: 3.7887 - accuracy: 0.4462 - val_loss: 4.4477 - val_accuracy: 0.4325\n",
            "Epoch 5/5\n",
            "545/545 [==============================] - 162s 297ms/step - loss: 3.4859 - accuracy: 0.4605 - val_loss: 4.4610 - val_accuracy: 0.4366\n",
            "69/69 [==============================] - 7s 94ms/step\n",
            "BLEU score for Fold 1: 0.3494\n",
            "Training on Fold 2/5...\n",
            "Epoch 1/5\n",
            "545/545 [==============================] - 170s 306ms/step - loss: 5.1856 - accuracy: 0.3723 - val_loss: 4.8086 - val_accuracy: 0.3927\n",
            "Epoch 2/5\n",
            "545/545 [==============================] - 167s 306ms/step - loss: 4.5106 - accuracy: 0.4031 - val_loss: 4.6028 - val_accuracy: 0.4146\n",
            "Epoch 3/5\n",
            "545/545 [==============================] - 165s 303ms/step - loss: 4.1287 - accuracy: 0.4280 - val_loss: 4.4921 - val_accuracy: 0.4235\n",
            "Epoch 4/5\n",
            "545/545 [==============================] - 166s 304ms/step - loss: 3.7875 - accuracy: 0.4450 - val_loss: 4.4743 - val_accuracy: 0.4303\n",
            "Epoch 5/5\n",
            "545/545 [==============================] - 165s 303ms/step - loss: 3.4680 - accuracy: 0.4605 - val_loss: 4.4770 - val_accuracy: 0.4351\n",
            "69/69 [==============================] - 7s 94ms/step\n",
            "BLEU score for Fold 2: 0.3478\n",
            "Training on Fold 3/5...\n",
            "Epoch 1/5\n",
            "545/545 [==============================] - 165s 295ms/step - loss: 5.1877 - accuracy: 0.3720 - val_loss: 4.8009 - val_accuracy: 0.3898\n",
            "Epoch 2/5\n",
            "545/545 [==============================] - 159s 293ms/step - loss: 4.5246 - accuracy: 0.4032 - val_loss: 4.5906 - val_accuracy: 0.4129\n",
            "Epoch 3/5\n",
            "545/545 [==============================] - 159s 292ms/step - loss: 4.1407 - accuracy: 0.4293 - val_loss: 4.4743 - val_accuracy: 0.4228\n",
            "Epoch 4/5\n",
            "545/545 [==============================] - 159s 292ms/step - loss: 3.8128 - accuracy: 0.4459 - val_loss: 4.4426 - val_accuracy: 0.4297\n",
            "Epoch 5/5\n",
            "545/545 [==============================] - 160s 294ms/step - loss: 3.5061 - accuracy: 0.4601 - val_loss: 4.4447 - val_accuracy: 0.4347\n",
            "69/69 [==============================] - 7s 94ms/step\n",
            "BLEU score for Fold 3: 0.3489\n",
            "Training on Fold 4/5...\n",
            "Epoch 1/5\n",
            "545/545 [==============================] - 168s 302ms/step - loss: 5.1664 - accuracy: 0.3762 - val_loss: 4.8547 - val_accuracy: 0.3867\n",
            "Epoch 2/5\n",
            "545/545 [==============================] - 163s 299ms/step - loss: 4.4770 - accuracy: 0.4101 - val_loss: 4.6402 - val_accuracy: 0.4072\n",
            "Epoch 3/5\n",
            "545/545 [==============================] - 163s 299ms/step - loss: 4.0786 - accuracy: 0.4337 - val_loss: 4.5215 - val_accuracy: 0.4166\n",
            "Epoch 4/5\n",
            "545/545 [==============================] - 162s 297ms/step - loss: 3.7289 - accuracy: 0.4515 - val_loss: 4.4850 - val_accuracy: 0.4231\n",
            "Epoch 5/5\n",
            "545/545 [==============================] - 164s 301ms/step - loss: 3.4030 - accuracy: 0.4666 - val_loss: 4.5086 - val_accuracy: 0.4276\n",
            "69/69 [==============================] - 7s 94ms/step\n",
            "BLEU score for Fold 4: 0.3380\n",
            "Training on Fold 5/5...\n",
            "Epoch 1/5\n",
            "545/545 [==============================] - 166s 297ms/step - loss: 5.1875 - accuracy: 0.3726 - val_loss: 4.8253 - val_accuracy: 0.3922\n",
            "Epoch 2/5\n",
            "545/545 [==============================] - 161s 295ms/step - loss: 4.5225 - accuracy: 0.4036 - val_loss: 4.6381 - val_accuracy: 0.4116\n",
            "Epoch 3/5\n",
            "545/545 [==============================] - 159s 292ms/step - loss: 4.1502 - accuracy: 0.4276 - val_loss: 4.5307 - val_accuracy: 0.4220\n",
            "Epoch 4/5\n",
            "545/545 [==============================] - 160s 294ms/step - loss: 3.8494 - accuracy: 0.4418 - val_loss: 4.4946 - val_accuracy: 0.4296\n",
            "Epoch 5/5\n",
            "545/545 [==============================] - 158s 290ms/step - loss: 3.5425 - accuracy: 0.4566 - val_loss: 4.4870 - val_accuracy: 0.4335\n",
            "69/69 [==============================] - 7s 93ms/step\n",
            "BLEU score for Fold 5: 0.3473\n",
            "Average BLEU score across folds: 0.3463\n"
          ]
        }
      ],
      "source": [
        "!pip install nltk scikit-learn\n",
        "import tensorflow as tf\n",
        "from tensorflow.keras.layers import Input, Embedding, LSTM, Dense\n",
        "from sklearn.model_selection import KFold\n",
        "from nltk.translate.bleu_score import corpus_bleu\n",
        "import numpy as np\n",
        "\n",
        "# BLEU metric (unchanged)\n",
        "def calculate_bleu(predictions, references):\n",
        "    references = [[ref] for ref in references]\n",
        "    return corpus_bleu(references, predictions)\n",
        "\n",
        "# K-Fold Split (moved here to be before its usage)\n",
        "num_folds = 5\n",
        "kf = KFold(n_splits=num_folds, shuffle=True, random_state=42)\n",
        "\n",
        "embedding_dim = 256\n",
        "units = 512\n",
        "batch_size = 16\n",
        "epochs = 5\n",
        "bleu_scores = []\n",
        "\n",
        "for fold, (train_idx, val_idx) in enumerate(kf.split(amh_data)):\n",
        "    print(f\"Training on Fold {fold + 1}/{num_folds}...\")\n",
        "\n",
        "    # Split data\n",
        "    train_amh, val_amh = amh_data[train_idx], amh_data[val_idx]\n",
        "    train_eng, val_eng = eng_data[train_idx], eng_data[val_idx]\n",
        "\n",
        "    # Define the model\n",
        "    model = Seq2SeqModel(amh_vocab_size, eng_vocab_size, embedding_dim, units)\n",
        "\n",
        "    # Compile the model\n",
        "    loss_object = tf.keras.losses.SparseCategoricalCrossentropy(from_logits=True)\n",
        "    model.compile(optimizer=tf.keras.optimizers.Adam(learning_rate=1e-3),\n",
        "                  loss=loss_object,\n",
        "                  metrics=['accuracy'])\n",
        "\n",
        "    # Train the model\n",
        "    model.fit(\n",
        "        [train_amh, train_eng[:, :-1]], train_eng[:, 1:],\n",
        "        validation_data=([val_amh, val_eng[:, :-1]], val_eng[:, 1:]),\n",
        "        batch_size=batch_size,\n",
        "        epochs=epochs\n",
        "    )\n",
        "\n",
        "    # Evaluate on validation set\n",
        "    val_predictions = model.predict([val_amh, val_eng[:, :-1]])\n",
        "    val_predictions = tf.argmax(val_predictions, axis=-1).numpy()\n",
        "\n",
        "    bleu = calculate_bleu(val_predictions, val_eng[:, 1:])\n",
        "    bleu_scores.append(bleu)\n",
        "    print(f\"BLEU score for Fold {fold + 1}: {bleu:.4f}\")\n",
        "\n",
        "# Average BLEU score\n",
        "print(f\"Average BLEU score across folds: {np.mean(bleu_scores):.4f}\")\n"
      ]
    }
  ],
  "metadata": {
    "accelerator": "TPU",
    "colab": {
      "gpuType": "V28",
      "provenance": [],
      "mount_file_id": "1sqqtct3_ElskKD2tbsA4A5QGGOqtzRxl",
      "authorship_tag": "ABX9TyPStsFdmtOwLbRDSmdfKAAW",
      "include_colab_link": true
    },
    "kernelspec": {
      "display_name": "Python 3",
      "name": "python3"
    },
    "language_info": {
      "name": "python"
    }
  },
  "nbformat": 4,
  "nbformat_minor": 0
}