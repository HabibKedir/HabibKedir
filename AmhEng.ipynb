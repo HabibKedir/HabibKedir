{
  "cells": [
    {
      "cell_type": "code",
      "execution_count": null,
      "metadata": {
        "colab": {
          "base_uri": "https://localhost:8080/"
        },
        "collapsed": true,
        "id": "pyEYVBVVC7Iv",
        "outputId": "75c2d432-c858-4d2f-a5a1-da98b23ab5a8"
      },
      "outputs": [
        {
          "output_type": "stream",
          "name": "stdout",
          "text": [
            "Requirement already satisfied: tensorflow in /usr/local/lib/python3.10/dist-packages (2.15.0)\n",
            "Requirement already satisfied: transformers in /usr/local/lib/python3.10/dist-packages (4.46.2)\n",
            "Requirement already satisfied: absl-py>=1.0.0 in /usr/local/lib/python3.10/dist-packages (from tensorflow) (1.4.0)\n",
            "Requirement already satisfied: astunparse>=1.6.0 in /usr/local/lib/python3.10/dist-packages (from tensorflow) (1.6.3)\n",
            "Requirement already satisfied: flatbuffers>=23.5.26 in /usr/local/lib/python3.10/dist-packages (from tensorflow) (24.3.25)\n",
            "Requirement already satisfied: gast!=0.5.0,!=0.5.1,!=0.5.2,>=0.2.1 in /usr/local/lib/python3.10/dist-packages (from tensorflow) (0.6.0)\n",
            "Requirement already satisfied: google-pasta>=0.1.1 in /usr/local/lib/python3.10/dist-packages (from tensorflow) (0.2.0)\n",
            "Requirement already satisfied: h5py>=2.9.0 in /usr/local/lib/python3.10/dist-packages (from tensorflow) (3.12.1)\n",
            "Requirement already satisfied: libclang>=13.0.0 in /usr/local/lib/python3.10/dist-packages (from tensorflow) (18.1.1)\n",
            "Requirement already satisfied: ml-dtypes~=0.2.0 in /usr/local/lib/python3.10/dist-packages (from tensorflow) (0.2.0)\n",
            "Requirement already satisfied: numpy<2.0.0,>=1.23.5 in /usr/local/lib/python3.10/dist-packages (from tensorflow) (1.26.4)\n",
            "Requirement already satisfied: opt-einsum>=2.3.2 in /usr/local/lib/python3.10/dist-packages (from tensorflow) (3.4.0)\n",
            "Requirement already satisfied: packaging in /usr/local/lib/python3.10/dist-packages (from tensorflow) (24.2)\n",
            "Requirement already satisfied: protobuf!=4.21.0,!=4.21.1,!=4.21.2,!=4.21.3,!=4.21.4,!=4.21.5,<5.0.0dev,>=3.20.3 in /usr/local/lib/python3.10/dist-packages (from tensorflow) (4.25.5)\n",
            "Requirement already satisfied: setuptools in /usr/local/lib/python3.10/dist-packages (from tensorflow) (75.1.0)\n",
            "Requirement already satisfied: six>=1.12.0 in /usr/local/lib/python3.10/dist-packages (from tensorflow) (1.16.0)\n",
            "Requirement already satisfied: termcolor>=1.1.0 in /usr/local/lib/python3.10/dist-packages (from tensorflow) (2.5.0)\n",
            "Requirement already satisfied: typing-extensions>=3.6.6 in /usr/local/lib/python3.10/dist-packages (from tensorflow) (4.12.2)\n",
            "Requirement already satisfied: wrapt<1.15,>=1.11.0 in /usr/local/lib/python3.10/dist-packages (from tensorflow) (1.14.1)\n",
            "Requirement already satisfied: tensorflow-io-gcs-filesystem>=0.23.1 in /usr/local/lib/python3.10/dist-packages (from tensorflow) (0.37.1)\n",
            "Requirement already satisfied: grpcio<2.0,>=1.24.3 in /usr/local/lib/python3.10/dist-packages (from tensorflow) (1.68.0)\n",
            "Requirement already satisfied: tensorboard<2.16,>=2.15 in /usr/local/lib/python3.10/dist-packages (from tensorflow) (2.15.2)\n",
            "Requirement already satisfied: tensorflow-estimator<2.16,>=2.15.0 in /usr/local/lib/python3.10/dist-packages (from tensorflow) (2.15.0)\n",
            "Requirement already satisfied: keras<2.16,>=2.15.0 in /usr/local/lib/python3.10/dist-packages (from tensorflow) (2.15.0)\n",
            "Requirement already satisfied: filelock in /usr/local/lib/python3.10/dist-packages (from transformers) (3.16.1)\n",
            "Requirement already satisfied: huggingface-hub<1.0,>=0.23.2 in /usr/local/lib/python3.10/dist-packages (from transformers) (0.26.2)\n",
            "Requirement already satisfied: pyyaml>=5.1 in /usr/local/lib/python3.10/dist-packages (from transformers) (6.0.2)\n",
            "Requirement already satisfied: regex!=2019.12.17 in /usr/local/lib/python3.10/dist-packages (from transformers) (2024.11.6)\n",
            "Requirement already satisfied: requests in /usr/local/lib/python3.10/dist-packages (from transformers) (2.32.3)\n",
            "Requirement already satisfied: safetensors>=0.4.1 in /usr/local/lib/python3.10/dist-packages (from transformers) (0.4.5)\n",
            "Requirement already satisfied: tokenizers<0.21,>=0.20 in /usr/local/lib/python3.10/dist-packages (from transformers) (0.20.3)\n",
            "Requirement already satisfied: tqdm>=4.27 in /usr/local/lib/python3.10/dist-packages (from transformers) (4.66.6)\n",
            "Requirement already satisfied: wheel<1.0,>=0.23.0 in /usr/local/lib/python3.10/dist-packages (from astunparse>=1.6.0->tensorflow) (0.45.0)\n",
            "Requirement already satisfied: fsspec>=2023.5.0 in /usr/local/lib/python3.10/dist-packages (from huggingface-hub<1.0,>=0.23.2->transformers) (2024.10.0)\n",
            "Requirement already satisfied: google-auth<3,>=1.6.3 in /usr/local/lib/python3.10/dist-packages (from tensorboard<2.16,>=2.15->tensorflow) (2.27.0)\n",
            "Requirement already satisfied: google-auth-oauthlib<2,>=0.5 in /usr/local/lib/python3.10/dist-packages (from tensorboard<2.16,>=2.15->tensorflow) (1.2.1)\n",
            "Requirement already satisfied: markdown>=2.6.8 in /usr/local/lib/python3.10/dist-packages (from tensorboard<2.16,>=2.15->tensorflow) (3.7)\n",
            "Requirement already satisfied: tensorboard-data-server<0.8.0,>=0.7.0 in /usr/local/lib/python3.10/dist-packages (from tensorboard<2.16,>=2.15->tensorflow) (0.7.2)\n",
            "Requirement already satisfied: werkzeug>=1.0.1 in /usr/local/lib/python3.10/dist-packages (from tensorboard<2.16,>=2.15->tensorflow) (3.1.3)\n",
            "Requirement already satisfied: charset-normalizer<4,>=2 in /usr/local/lib/python3.10/dist-packages (from requests->transformers) (3.4.0)\n",
            "Requirement already satisfied: idna<4,>=2.5 in /usr/local/lib/python3.10/dist-packages (from requests->transformers) (3.10)\n",
            "Requirement already satisfied: urllib3<3,>=1.21.1 in /usr/local/lib/python3.10/dist-packages (from requests->transformers) (2.2.3)\n",
            "Requirement already satisfied: certifi>=2017.4.17 in /usr/local/lib/python3.10/dist-packages (from requests->transformers) (2024.8.30)\n",
            "Requirement already satisfied: cachetools<6.0,>=2.0.0 in /usr/local/lib/python3.10/dist-packages (from google-auth<3,>=1.6.3->tensorboard<2.16,>=2.15->tensorflow) (5.5.0)\n",
            "Requirement already satisfied: pyasn1-modules>=0.2.1 in /usr/local/lib/python3.10/dist-packages (from google-auth<3,>=1.6.3->tensorboard<2.16,>=2.15->tensorflow) (0.4.1)\n",
            "Requirement already satisfied: rsa<5,>=3.1.4 in /usr/local/lib/python3.10/dist-packages (from google-auth<3,>=1.6.3->tensorboard<2.16,>=2.15->tensorflow) (4.9)\n",
            "Requirement already satisfied: requests-oauthlib>=0.7.0 in /usr/local/lib/python3.10/dist-packages (from google-auth-oauthlib<2,>=0.5->tensorboard<2.16,>=2.15->tensorflow) (2.0.0)\n",
            "Requirement already satisfied: MarkupSafe>=2.1.1 in /usr/local/lib/python3.10/dist-packages (from werkzeug>=1.0.1->tensorboard<2.16,>=2.15->tensorflow) (3.0.2)\n",
            "Requirement already satisfied: pyasn1<0.7.0,>=0.4.6 in /usr/local/lib/python3.10/dist-packages (from pyasn1-modules>=0.2.1->google-auth<3,>=1.6.3->tensorboard<2.16,>=2.15->tensorflow) (0.6.1)\n",
            "Requirement already satisfied: oauthlib>=3.0.0 in /usr/local/lib/python3.10/dist-packages (from requests-oauthlib>=0.7.0->google-auth-oauthlib<2,>=0.5->tensorboard<2.16,>=2.15->tensorflow) (3.2.2)\n"
          ]
        }
      ],
      "source": [
        "!pip install tensorflow transformers"
      ]
    },
    {
      "cell_type": "code",
      "source": [
        "from google.colab import drive\n",
        "import os\n",
        "\n",
        "# Mount Google Drive\n",
        "drive.mount('/content/drive')\n",
        "\n",
        "# Set directory paths\n",
        "data_dir = \"/content/drive/MyDrive/New\"\n",
        "amh_path = os.path.join(data_dir, \"Amh.txt\")\n",
        "eng_path = os.path.join(data_dir, \"Eng.txt\")\n",
        "\n",
        "# Load data\n",
        "with open(amh_path, 'r', encoding='utf-8') as f:\n",
        "    amh_sentences = f.readlines()\n",
        "\n",
        "with open(eng_path, 'r', encoding='utf-8') as f:\n",
        "    eng_sentences = f.readlines()\n",
        "\n",
        "print(f\"Loaded {len(amh_sentences)} Amharic sentences and {len(eng_sentences)} English sentences.\")\n"
      ],
      "metadata": {
        "colab": {
          "base_uri": "https://localhost:8080/"
        },
        "id": "8Ilhd4HwevgI",
        "outputId": "b3e760c1-321e-4faa-8090-4f8b188da93a"
      },
      "execution_count": null,
      "outputs": [
        {
          "output_type": "stream",
          "name": "stdout",
          "text": [
            "Drive already mounted at /content/drive; to attempt to forcibly remount, call drive.mount(\"/content/drive\", force_remount=True).\n",
            "Loaded 10892 Amharic sentences and 10892 English sentences.\n"
          ]
        }
      ]
    },
    {
      "cell_type": "code",
      "source": [
        "from tensorflow.keras.preprocessing.text import Tokenizer\n",
        "from tensorflow.keras.preprocessing.sequence import pad_sequences\n",
        "\n",
        "# Tokenization\n",
        "def create_tokenizer(sentences):\n",
        "    tokenizer = Tokenizer(filters='', oov_token=\"<unk>\")\n",
        "    tokenizer.fit_on_texts(sentences)\n",
        "    return tokenizer\n",
        "\n",
        "amh_tokenizer = create_tokenizer(amh_sentences)\n",
        "eng_tokenizer = create_tokenizer(eng_sentences)\n",
        "\n",
        "amh_vocab_size = len(amh_tokenizer.word_index) + 1\n",
        "eng_vocab_size = len(eng_tokenizer.word_index) + 1\n",
        "\n",
        "# Preprocess sentences\n",
        "def preprocess_sentences(sentences, tokenizer, max_length=40):\n",
        "    sequences = tokenizer.texts_to_sequences(sentences)\n",
        "    return pad_sequences(sequences, maxlen=max_length, padding='post')\n",
        "\n",
        "max_length = 45\n",
        "amh_data = preprocess_sentences(amh_sentences, amh_tokenizer, max_length)\n",
        "eng_data = preprocess_sentences(eng_sentences, eng_tokenizer, max_length)\n",
        "\n",
        "print(f\"Amharic data shape: {amh_data.shape}, English data shape: {eng_data.shape}\")\n"
      ],
      "metadata": {
        "colab": {
          "base_uri": "https://localhost:8080/"
        },
        "id": "RVm530cNe22H",
        "outputId": "ed513abb-4607-4736-ec38-6a91fd4598c2"
      },
      "execution_count": null,
      "outputs": [
        {
          "output_type": "stream",
          "name": "stdout",
          "text": [
            "Amharic data shape: (10892, 45), English data shape: (10892, 45)\n"
          ]
        }
      ]
    },
    {
      "cell_type": "code",
      "source": [
        "import tensorflow as tf\n",
        "from tensorflow.keras.layers import Input, Embedding, LSTM, Dense\n",
        "\n",
        "# Define the Seq2Seq Model\n",
        "class Seq2SeqModel(tf.keras.Model):\n",
        "    def __init__(self, encoder_vocab_size, decoder_vocab_size, embedding_dim, units):\n",
        "        super(Seq2SeqModel, self).__init__()\n",
        "        self.encoder_embedding = Embedding(encoder_vocab_size, embedding_dim)\n",
        "        self.encoder_lstm = LSTM(units, return_state=True)\n",
        "\n",
        "        self.decoder_embedding = Embedding(decoder_vocab_size, embedding_dim)\n",
        "        self.decoder_lstm = LSTM(units, return_sequences=True, return_state=True)\n",
        "        self.fc = Dense(decoder_vocab_size)\n",
        "\n",
        "    def call(self, inputs, training=False):\n",
        "        enc_input, dec_input = inputs\n",
        "\n",
        "        # Encoder\n",
        "        enc_embedded = self.encoder_embedding(enc_input)\n",
        "        _, enc_h, enc_c = self.encoder_lstm(enc_embedded)\n",
        "\n",
        "        # Decoder\n",
        "        dec_embedded = self.decoder_embedding(dec_input)\n",
        "        dec_output, _, _ = self.decoder_lstm(dec_embedded, initial_state=[enc_h, enc_c])\n",
        "        output = self.fc(dec_output)\n",
        "\n",
        "        return output\n"
      ],
      "metadata": {
        "id": "3ovqQ2Q8e_re"
      },
      "execution_count": null,
      "outputs": []
    },
    {
      "cell_type": "code",
      "source": [
        "from sklearn.model_selection import KFold\n",
        "from nltk.translate.bleu_score import corpus_bleu\n",
        "\n",
        "# BLEU metric\n",
        "def calculate_bleu(predictions, references):\n",
        "    references = [[ref] for ref in references]\n",
        "    return corpus_bleu(references, predictions)\n",
        "\n",
        "# K-Fold Split\n",
        "num_folds = 5\n",
        "kf = KFold(n_splits=num_folds, shuffle=True, random_state=42)"
      ],
      "metadata": {
        "id": "tVqZn5GifOFf"
      },
      "execution_count": null,
      "outputs": []
    },
    {
      "cell_type": "code",
      "source": [
        "embedding_dim = 256\n",
        "units = 512\n",
        "batch_size = 32\n",
        "epochs = 3\n",
        "bleu_scores = []\n",
        "\n",
        "for fold, (train_idx, val_idx) in enumerate(kf.split(amh_data)):\n",
        "    print(f\"Training on Fold {fold + 1}/{num_folds}...\")\n",
        "\n",
        "    # Split data\n",
        "    train_amh, val_amh = amh_data[train_idx], amh_data[val_idx]\n",
        "    train_eng, val_eng = eng_data[train_idx], eng_data[val_idx]\n",
        "\n",
        "    # Define the model\n",
        "    model = Seq2SeqModel(amh_vocab_size, eng_vocab_size, embedding_dim, units)\n",
        "\n",
        "    # Compile the model\n",
        "    loss_object = tf.keras.losses.SparseCategoricalCrossentropy(from_logits=True)\n",
        "    model.compile(optimizer=tf.keras.optimizers.Adam(learning_rate=1e-3),\n",
        "                  loss=loss_object,\n",
        "                  metrics=['accuracy'])\n",
        "\n",
        "    # Train the model\n",
        "    model.fit(\n",
        "        [train_amh, train_eng[:, :-1]], train_eng[:, 1:],\n",
        "        validation_data=([val_amh, val_eng[:, :-1]], val_eng[:, 1:]),\n",
        "        batch_size=batch_size,\n",
        "        epochs=epochs\n",
        "    )\n",
        "\n",
        "    # Evaluate on validation set\n",
        "    val_predictions = model.predict([val_amh, val_eng[:, :-1]])\n",
        "    val_predictions = tf.argmax(val_predictions, axis=-1).numpy()\n",
        "\n",
        "    bleu = calculate_bleu(val_predictions, val_eng[:, 1:])\n",
        "    bleu_scores.append(bleu)\n",
        "    print(f\"BLEU score for Fold {fold + 1}: {bleu:.4f}\")\n",
        "\n",
        "# Average BLEU score\n",
        "print(f\"Average BLEU score across folds: {np.mean(bleu_scores):.4f}\")\n"
      ],
      "metadata": {
        "colab": {
          "base_uri": "https://localhost:8080/",
          "height": 977
        },
        "id": "hHl9Fpx-fnCV",
        "outputId": "73858882-3a19-4551-f7dd-dcbe3c84ccc4"
      },
      "execution_count": null,
      "outputs": [
        {
          "output_type": "stream",
          "name": "stdout",
          "text": [
            "Training on Fold 1/5...\n",
            "Epoch 1/3\n",
            "273/273 [==============================] - 160s 572ms/step - loss: 4.0441 - accuracy: 0.5452 - val_loss: 3.4491 - val_accuracy: 0.5681\n",
            "Epoch 2/3\n",
            "273/273 [==============================] - 156s 572ms/step - loss: 3.3107 - accuracy: 0.5750 - val_loss: 3.3029 - val_accuracy: 0.5832\n",
            "Epoch 3/3\n",
            "273/273 [==============================] - 157s 576ms/step - loss: 3.0792 - accuracy: 0.5868 - val_loss: 3.1947 - val_accuracy: 0.5887\n",
            "69/69 [==============================] - 10s 139ms/step\n",
            "BLEU score for Fold 1: 0.5431\n",
            "Training on Fold 2/5...\n",
            "Epoch 1/3\n",
            "273/273 [==============================] - 162s 581ms/step - loss: 3.9386 - accuracy: 0.5497 - val_loss: 3.4467 - val_accuracy: 0.5694\n",
            "Epoch 2/3\n",
            "273/273 [==============================] - 158s 579ms/step - loss: 3.3073 - accuracy: 0.5731 - val_loss: 3.3352 - val_accuracy: 0.5795\n",
            "Epoch 3/3\n",
            "273/273 [==============================] - 158s 578ms/step - loss: 3.1058 - accuracy: 0.5870 - val_loss: 3.2308 - val_accuracy: 0.5905\n",
            "69/69 [==============================] - 11s 138ms/step\n",
            "BLEU score for Fold 2: 0.5428\n",
            "Training on Fold 3/5...\n",
            "Epoch 1/3\n",
            "273/273 [==============================] - 163s 585ms/step - loss: 3.9307 - accuracy: 0.5497 - val_loss: 3.4404 - val_accuracy: 0.5686\n",
            "Epoch 2/3\n",
            "273/273 [==============================] - 158s 581ms/step - loss: 3.3021 - accuracy: 0.5737 - val_loss: 3.3390 - val_accuracy: 0.5775\n",
            "Epoch 3/3\n",
            "273/273 [==============================] - 158s 580ms/step - loss: 3.1063 - accuracy: 0.5869 - val_loss: 3.2270 - val_accuracy: 0.5885\n",
            "69/69 [==============================] - 10s 138ms/step\n",
            "BLEU score for Fold 3: 0.5428\n",
            "Training on Fold 4/5...\n",
            "Epoch 1/3\n",
            "273/273 [==============================] - 163s 584ms/step - loss: 3.9232 - accuracy: 0.5530 - val_loss: 3.5282 - val_accuracy: 0.5578\n",
            "Epoch 2/3\n",
            "273/273 [==============================] - 158s 580ms/step - loss: 3.2845 - accuracy: 0.5767 - val_loss: 3.4164 - val_accuracy: 0.5672\n",
            "Epoch 3/3\n",
            "273/273 [==============================] - 159s 582ms/step - loss: 3.1662 - accuracy: 0.5860 - val_loss: 3.3016 - val_accuracy: 0.5775\n",
            "69/69 [==============================] - 10s 139ms/step\n",
            "BLEU score for Fold 4: 0.5289\n",
            "Training on Fold 5/5...\n",
            "Epoch 1/3\n",
            "273/273 [==============================] - 165s 589ms/step - loss: 4.0365 - accuracy: 0.5459 - val_loss: 3.5331 - val_accuracy: 0.5642\n",
            "Epoch 2/3\n",
            "273/273 [==============================] - 159s 584ms/step - loss: 3.3696 - accuracy: 0.5715 - val_loss: 3.4056 - val_accuracy: 0.5768\n",
            "Epoch 3/3\n",
            "273/273 [==============================] - 159s 582ms/step - loss: 3.1728 - accuracy: 0.5859 - val_loss: 3.3072 - val_accuracy: 0.5843\n",
            "69/69 [==============================] - 10s 138ms/step\n",
            "BLEU score for Fold 5: 0.5395\n"
          ]
        },
        {
          "output_type": "error",
          "ename": "NameError",
          "evalue": "name 'np' is not defined",
          "traceback": [
            "\u001b[0;31m---------------------------------------------------------------------------\u001b[0m",
            "\u001b[0;31mNameError\u001b[0m                                 Traceback (most recent call last)",
            "\u001b[0;32m<ipython-input-9-cd856aabebf2>\u001b[0m in \u001b[0;36m<cell line: 40>\u001b[0;34m()\u001b[0m\n\u001b[1;32m     38\u001b[0m \u001b[0;34m\u001b[0m\u001b[0m\n\u001b[1;32m     39\u001b[0m \u001b[0;31m# Average BLEU score\u001b[0m\u001b[0;34m\u001b[0m\u001b[0;34m\u001b[0m\u001b[0m\n\u001b[0;32m---> 40\u001b[0;31m \u001b[0mprint\u001b[0m\u001b[0;34m(\u001b[0m\u001b[0;34mf\"Average BLEU score across folds: {np.mean(bleu_scores):.4f}\"\u001b[0m\u001b[0;34m)\u001b[0m\u001b[0;34m\u001b[0m\u001b[0;34m\u001b[0m\u001b[0m\n\u001b[0m",
            "\u001b[0;31mNameError\u001b[0m: name 'np' is not defined"
          ]
        }
      ]
    }
  ],
  "metadata": {
    "accelerator": "TPU",
    "colab": {
      "gpuType": "V28",
      "provenance": [],
      "mount_file_id": "1sqqtct3_ElskKD2tbsA4A5QGGOqtzRxl",
      "authorship_tag": "ABX9TyORkAjWfjJcGNTUyLQkN9V4"
    },
    "kernelspec": {
      "display_name": "Python 3",
      "name": "python3"
    },
    "language_info": {
      "name": "python"
    }
  },
  "nbformat": 4,
  "nbformat_minor": 0
}